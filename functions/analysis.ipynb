{
 "cells": [
  {
   "cell_type": "code",
   "execution_count": null,
   "metadata": {},
   "outputs": [],
   "source": [
    "import xml.etree.ElementTree as ET\n",
    "import matplotlib.pyplot as plt\n",
    "import seaborn as sns\n",
    "import datetime as dt\n",
    "import pandas as pd"
   ]
  },
  {
   "cell_type": "code",
   "execution_count": null,
   "metadata": {},
   "outputs": [],
   "source": [
    "filepath = ''\n",
    "tree = ET.parse(filepath)\n",
    "root = tree.getroot()"
   ]
  },
  {
   "cell_type": "code",
   "execution_count": null,
   "metadata": {},
   "outputs": [],
   "source": [
    "def print_elements(element, indent=\"\"):\n",
    "\n",
    "    print(f\"{indent}Tag: {element.tag}, Attributes: {element.attrib}\")\n",
    "    for child in element:\n",
    "\n",
    "        print_elements(child, indent + \"  \")"
   ]
  },
  {
   "cell_type": "code",
   "execution_count": null,
   "metadata": {},
   "outputs": [],
   "source": [
    "workout_list = [workout for workout in root.findall('Workout') if workout.get(\n",
    "    'workoutActivityType') == 'HKWorkoutActivityTypeSwimming']\n",
    "for workout in workout_list:\n",
    "\n",
    "    print_elements(workout)"
   ]
  },
  {
   "cell_type": "code",
   "execution_count": null,
   "metadata": {},
   "outputs": [],
   "source": [
    "STROKE_STYLE_MAP = {\n",
    "    '0': 'UnknownStrokeStyle',\n",
    "    '1': 'MixedStrokeStyle',\n",
    "    '2': 'FreestyleStrokeStyle',\n",
    "    '3': 'BackstrokeStrokeStyle',\n",
    "    '4': 'BreaststrokeStrokeStyle',\n",
    "    '5': 'ButterflyStrokeStyle',\n",
    "    '6': 'KickboardStrokeStyle'\n",
    "}\n",
    "\n",
    "\n",
    "def parse_stroke_style(value):\n",
    "    \"\"\"Converts the stroke style value to its corresponding string.\"\"\"\n",
    "\n",
    "    return STROKE_STYLE_MAP.get(value, 'UnknownStrokeStyle')"
   ]
  },
  {
   "cell_type": "code",
   "execution_count": null,
   "metadata": {},
   "outputs": [],
   "source": [
    "def xml_to_dict(element):\n",
    "\n",
    "    result_dict = {\n",
    "        'Duration': element.attrib.get('duration', ''),\n",
    "        'CreationDate': element.attrib.get('creationDate', ''),\n",
    "        'StartDate': element.attrib.get('startDate', ''),\n",
    "        'EndDate': element.attrib.get('endDate', '')\n",
    "    }\n",
    "\n",
    "    for parent in element:\n",
    "\n",
    "        tag = parent.tag\n",
    "        attrib_value = parent.attrib.values()\n",
    "\n",
    "        if tag == 'MetadataEntry':\n",
    "\n",
    "            if 'HKAverageMETs' in attrib_value:\n",
    "\n",
    "                result_dict['AverageMETs'] =\\\n",
    "                    parent.attrib['value'].split(' ')[0]\n",
    "\n",
    "            if 'HKWeatherTemperature' in attrib_value:\n",
    "\n",
    "                result_dict['WeatherTemperature'] = parent.attrib['value']\\\n",
    "                    .split(' ')[0]\n",
    "\n",
    "        if tag == 'WorkoutStatistics':\n",
    "\n",
    "            if 'HKQuantityTypeIdentifierDistanceSwimming' in attrib_value:\n",
    "\n",
    "                result_dict['DistanceSwimming'] = parent.attrib['sum']\n",
    "\n",
    "            if 'HKQuantityTypeIdentifierActiveEnergyBurned' in attrib_value:\n",
    "\n",
    "                result_dict['EnergyBurned'] = parent.attrib['sum']\n",
    "\n",
    "        if (tag == 'WorkoutEvent' and 'HKWorkoutEventTypeLap' in parent.attrib.values()):\n",
    "\n",
    "            for child in parent:\n",
    "\n",
    "                stroke_style = parse_stroke_style(child.attrib['value'])\n",
    "                result_dict[stroke_style] = result_dict.get(\n",
    "                    stroke_style, 0) + 1\n",
    "\n",
    "    return result_dict"
   ]
  },
  {
   "cell_type": "code",
   "execution_count": null,
   "metadata": {},
   "outputs": [],
   "source": [
    "workouts = [xml_to_dict(workout) for workout in workout_list]"
   ]
  },
  {
   "cell_type": "code",
   "execution_count": null,
   "metadata": {},
   "outputs": [],
   "source": [
    "df = pd.DataFrame(workouts)"
   ]
  },
  {
   "cell_type": "code",
   "execution_count": null,
   "metadata": {},
   "outputs": [],
   "source": [
    "df.tail()"
   ]
  },
  {
   "cell_type": "code",
   "execution_count": null,
   "metadata": {},
   "outputs": [],
   "source": [
    "df.dtypes"
   ]
  },
  {
   "cell_type": "code",
   "execution_count": null,
   "metadata": {},
   "outputs": [],
   "source": [
    "for col in ['CreationDate', 'StartDate', 'EndDate']:\n",
    "    df[col] = pd.to_datetime(df[col])"
   ]
  },
  {
   "cell_type": "code",
   "execution_count": null,
   "metadata": {},
   "outputs": [],
   "source": [
    "for col in ['Duration', 'AverageMETs', 'WeatherTemperature', 'DistanceSwimming', 'EnergyBurned']:\n",
    "    df[col] = pd.to_numeric(df[col])"
   ]
  },
  {
   "cell_type": "code",
   "execution_count": null,
   "metadata": {},
   "outputs": [],
   "source": [
    "df.dtypes"
   ]
  },
  {
   "cell_type": "code",
   "execution_count": null,
   "metadata": {},
   "outputs": [],
   "source": [
    "df.describe()"
   ]
  },
  {
   "cell_type": "code",
   "execution_count": null,
   "metadata": {},
   "outputs": [],
   "source": [
    "df.isna().sum()"
   ]
  },
  {
   "cell_type": "code",
   "execution_count": null,
   "metadata": {},
   "outputs": [],
   "source": [
    "# fill missing StrokeStyle columns values with 0\n",
    "df['FreestyleStrokeStyle'] = df['FreestyleStrokeStyle'].fillna(0)\n",
    "df['BreaststrokeStrokeStyle'] = df['BreaststrokeStrokeStyle'].fillna(0)\n",
    "df['BackstrokeStrokeStyle'] = df['BackstrokeStrokeStyle'].fillna(0)\n",
    "df['ButterflyStrokeStyle'] = df['ButterflyStrokeStyle'].fillna(0)\n",
    "df['MixedStrokeStyle'] = df['MixedStrokeStyle'].fillna(0)"
   ]
  },
  {
   "cell_type": "code",
   "execution_count": null,
   "metadata": {},
   "outputs": [],
   "source": [
    "# fill missing WeatherTemperature values with mean\n",
    "df['WeatherTemperature'] = df['WeatherTemperature'].fillna(\n",
    "    df['WeatherTemperature'].mean())"
   ]
  },
  {
   "cell_type": "code",
   "execution_count": null,
   "metadata": {},
   "outputs": [],
   "source": [
    "df.isna().sum()"
   ]
  },
  {
   "cell_type": "code",
   "execution_count": null,
   "metadata": {},
   "outputs": [],
   "source": [
    "df.tail()"
   ]
  },
  {
   "cell_type": "code",
   "execution_count": null,
   "metadata": {},
   "outputs": [],
   "source": [
    "# DistanceSwimming in meters per month\n",
    "sns.lineplot(x=df['StartDate'].dt.day, y=df['DistanceSwimming'])\n",
    "plt.show()"
   ]
  },
  {
   "cell_type": "code",
   "execution_count": null,
   "metadata": {},
   "outputs": [],
   "source": [
    "# calories burned per day\n",
    "sns.histplot(x=df['EnergyBurned'], bins=20)\n",
    "plt.show()"
   ]
  },
  {
   "cell_type": "code",
   "execution_count": null,
   "metadata": {},
   "outputs": [],
   "source": [
    "# total distance, total time, calories mean, weather mean\n",
    "total_distance = df['DistanceSwimming'].sum()\n",
    "total_time = df['Duration'].sum()\n",
    "total_calories = df['EnergyBurned'].sum()\n",
    "weather_mean = df['WeatherTemperature'].mean()\n",
    "# convert from degree/F to degree\n",
    "weather_mean_degrees = (weather_mean - 32) * 5/9\n",
    "\n",
    "print(f\"Total distance: {total_distance} meters\")\n",
    "print(f\"Total time: {total_time} minutes\")\n",
    "print(f\"Total Calories: {total_calories} calories\")\n",
    "print(f\"Weather mean: {weather_mean_degrees} degrees\")"
   ]
  }
 ],
 "metadata": {
  "kernelspec": {
   "display_name": "venv",
   "language": "python",
   "name": "python3"
  },
  "language_info": {
   "codemirror_mode": {
    "name": "ipython",
    "version": 3
   },
   "file_extension": ".py",
   "mimetype": "text/x-python",
   "name": "python",
   "nbconvert_exporter": "python",
   "pygments_lexer": "ipython3",
   "version": "3.11.6"
  }
 },
 "nbformat": 4,
 "nbformat_minor": 2
}
